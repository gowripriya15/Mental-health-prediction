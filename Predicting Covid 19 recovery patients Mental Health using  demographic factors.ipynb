{
 "cells": [
  {
   "cell_type": "markdown",
   "id": "7984628c",
   "metadata": {},
   "source": [
    "# Importing libraries"
   ]
  },
  {
   "cell_type": "code",
   "execution_count": 2,
   "id": "31e32f29",
   "metadata": {},
   "outputs": [],
   "source": [
    "import numpy as np # linear algebra\n",
    "import pandas as pd # data processing, CSV file I/O (e.g. pd.read_csv)\n",
    "import matplotlib.pyplot as plt\n",
    "import seaborn as sns\n",
    "\n",
    "from scipy import stats\n",
    "from scipy.stats import randint\n",
    "\n",
    "\n",
    "from sklearn.model_selection import train_test_split\n",
    "from sklearn import preprocessing\n",
    "from sklearn.datasets import make_classification\n",
    "from sklearn.preprocessing import binarize, LabelEncoder, MinMaxScaler\n",
    "\n",
    "# models\n",
    "from sklearn.linear_model import LogisticRegression\n",
    "from sklearn.tree import DecisionTreeClassifier\n",
    "from sklearn.ensemble import RandomForestClassifier, ExtraTreesClassifier"
   ]
  },
  {
   "cell_type": "code",
   "execution_count": 3,
   "id": "29d6505c",
   "metadata": {},
   "outputs": [],
   "source": [
    "from sklearn import metrics\n",
    "from sklearn.metrics import accuracy_score, mean_squared_error\n",
    "from sklearn.model_selection import cross_val_score\n",
    "from sklearn.metrics import plot_roc_curve\n",
    "\n",
    "#Bagging\n",
    "#Boosting\n",
    "from sklearn.ensemble import BaggingClassifier, AdaBoostClassifier\n",
    "#Stacking\n",
    "from mlxtend.classifier import StackingClassifier"
   ]
  },
  {
   "cell_type": "code",
   "execution_count": 4,
   "id": "0d7b47f4",
   "metadata": {},
   "outputs": [
    {
     "data": {
      "text/plain": [
       "'C:\\\\Users\\\\PRIYA'"
      ]
     },
     "execution_count": 4,
     "metadata": {},
     "output_type": "execute_result"
    }
   ],
   "source": [
    "import os\n",
    "os.getcwd()"
   ]
  },
  {
   "cell_type": "markdown",
   "id": "8b937bb6",
   "metadata": {},
   "source": [
    "# Reading the dataset"
   ]
  },
  {
   "cell_type": "code",
   "execution_count": 5,
   "id": "16f2824f",
   "metadata": {},
   "outputs": [
    {
     "name": "stdout",
     "output_type": "stream",
     "text": [
      "(112792, 20)\n",
      "                  ID        Dem_age  Dem_dependents  Dem_isolation_adults  \\\n",
      "count  112792.000000  112792.000000   109287.000000          93460.000000   \n",
      "mean    63026.552672      39.046705        0.863067              1.563525   \n",
      "std     37120.219919      14.186779        1.651936              2.791970   \n",
      "min         5.000000      18.000000        0.000000              0.000000   \n",
      "25%     29011.750000      27.000000        0.000000              1.000000   \n",
      "50%     65816.500000      37.000000        0.000000              1.000000   \n",
      "75%     95342.250000      49.000000        2.000000              2.000000   \n",
      "max    125306.000000     110.000000      110.000000            110.000000   \n",
      "\n",
      "       Dem_isolation_kids  Corona_concerns_yourself  Corona_concerns_family  \\\n",
      "count        91909.000000              99935.000000            99531.000000   \n",
      "mean             0.489114                  4.062200                4.836704   \n",
      "std              1.311498                  1.472877                1.209490   \n",
      "min              0.000000                  1.000000                1.000000   \n",
      "25%              0.000000                  3.000000                4.000000   \n",
      "50%              0.000000                  4.000000                5.000000   \n",
      "75%              1.000000                  5.000000                6.000000   \n",
      "max            110.000000                  6.000000                6.000000   \n",
      "\n",
      "       Corona_concerns_close_friends  Corona_concerns_country  \\\n",
      "count                   99487.000000             99403.000000   \n",
      "mean                        4.425432                 4.857026   \n",
      "std                         1.263006                 1.151516   \n",
      "min                         1.000000                 1.000000   \n",
      "25%                         4.000000                 4.000000   \n",
      "50%                         5.000000                 5.000000   \n",
      "75%                         5.000000                 6.000000   \n",
      "max                         6.000000                 6.000000   \n",
      "\n",
      "       Corona_concerns_global  \n",
      "count            99417.000000  \n",
      "mean                 4.827193  \n",
      "std                  1.159319  \n",
      "min                  1.000000  \n",
      "25%                  4.000000  \n",
      "50%                  5.000000  \n",
      "75%                  6.000000  \n",
      "max                  6.000000  \n",
      "<class 'pandas.core.frame.DataFrame'>\n",
      "RangeIndex: 112792 entries, 0 to 112791\n",
      "Data columns (total 20 columns):\n",
      " #   Column                         Non-Null Count   Dtype  \n",
      "---  ------                         --------------   -----  \n",
      " 0   ID                             112792 non-null  int64  \n",
      " 1   answered_all                   112792 non-null  object \n",
      " 2   Dem_age                        112792 non-null  int64  \n",
      " 3   Dem_gender                     112501 non-null  object \n",
      " 4   Dem_edu                        112049 non-null  object \n",
      " 5   Dem_edu_mom                    110884 non-null  object \n",
      " 6   Dem_employment                 111753 non-null  object \n",
      " 7   Country                        112311 non-null  object \n",
      " 8   Dem_state                      99304 non-null   object \n",
      " 9   Dem_maritalstatus              111844 non-null  object \n",
      " 10  Dem_dependents                 109287 non-null  float64\n",
      " 11  Dem_riskgroup                  112221 non-null  object \n",
      " 12  Dem_isolation                  111136 non-null  object \n",
      " 13  Dem_isolation_adults           93460 non-null   float64\n",
      " 14  Dem_isolation_kids             91909 non-null   float64\n",
      " 15  Corona_concerns_yourself       99935 non-null   float64\n",
      " 16  Corona_concerns_family         99531 non-null   float64\n",
      " 17  Corona_concerns_close_friends  99487 non-null   float64\n",
      " 18  Corona_concerns_country        99403 non-null   float64\n",
      " 19  Corona_concerns_global         99417 non-null   float64\n",
      "dtypes: float64(8), int64(2), object(10)\n",
      "memory usage: 17.2+ MB\n",
      "None\n"
     ]
    }
   ],
   "source": [
    "\n",
    "train_df = pd.read_csv('C:\\projects-files\\mentall-illness-project/Stress_Data.csv',encoding='ISO-8859–1')\n",
    "\n",
    "\n",
    "#Pandas: whats the data row count?\n",
    "print(train_df.shape)\n",
    "    \n",
    "#Pandas: whats the distribution of the data?\n",
    "print(train_df.describe())\n",
    "    \n",
    "#Pandas: What types of data do i have?\n",
    "print(train_df.info())"
   ]
  },
  {
   "cell_type": "code",
   "execution_count": 6,
   "id": "59382927",
   "metadata": {},
   "outputs": [],
   "source": [
    "train_df = train_df.drop(['ID'], axis= 1)\n",
    "train_df = train_df.drop(['Dem_state'], axis= 1)"
   ]
  },
  {
   "cell_type": "code",
   "execution_count": 7,
   "id": "afdaf6cd",
   "metadata": {},
   "outputs": [
    {
     "data": {
      "text/html": [
       "<div>\n",
       "<style scoped>\n",
       "    .dataframe tbody tr th:only-of-type {\n",
       "        vertical-align: middle;\n",
       "    }\n",
       "\n",
       "    .dataframe tbody tr th {\n",
       "        vertical-align: top;\n",
       "    }\n",
       "\n",
       "    .dataframe thead th {\n",
       "        text-align: right;\n",
       "    }\n",
       "</style>\n",
       "<table border=\"1\" class=\"dataframe\">\n",
       "  <thead>\n",
       "    <tr style=\"text-align: right;\">\n",
       "      <th></th>\n",
       "      <th>answered_all</th>\n",
       "      <th>Dem_age</th>\n",
       "      <th>Dem_gender</th>\n",
       "      <th>Dem_edu</th>\n",
       "      <th>Dem_edu_mom</th>\n",
       "      <th>Dem_employment</th>\n",
       "      <th>Country</th>\n",
       "      <th>Dem_maritalstatus</th>\n",
       "      <th>Dem_dependents</th>\n",
       "      <th>Dem_riskgroup</th>\n",
       "      <th>Dem_isolation</th>\n",
       "      <th>Dem_isolation_adults</th>\n",
       "      <th>Dem_isolation_kids</th>\n",
       "      <th>Corona_concerns_yourself</th>\n",
       "      <th>Corona_concerns_family</th>\n",
       "      <th>Corona_concerns_close_friends</th>\n",
       "      <th>Corona_concerns_country</th>\n",
       "      <th>Corona_concerns_global</th>\n",
       "    </tr>\n",
       "  </thead>\n",
       "  <tbody>\n",
       "    <tr>\n",
       "      <th>0</th>\n",
       "      <td>No</td>\n",
       "      <td>61</td>\n",
       "      <td>Female</td>\n",
       "      <td>Some College, short continuing education or eq...</td>\n",
       "      <td>Up to 12 years of school</td>\n",
       "      <td>Retired</td>\n",
       "      <td>Argentina</td>\n",
       "      <td>Married/cohabiting</td>\n",
       "      <td>0.0</td>\n",
       "      <td>Yes</td>\n",
       "      <td>Isolated</td>\n",
       "      <td>1.0</td>\n",
       "      <td>0.0</td>\n",
       "      <td>4.0</td>\n",
       "      <td>4.0</td>\n",
       "      <td>3.0</td>\n",
       "      <td>6.0</td>\n",
       "      <td>NaN</td>\n",
       "    </tr>\n",
       "    <tr>\n",
       "      <th>1</th>\n",
       "      <td>Yes</td>\n",
       "      <td>68</td>\n",
       "      <td>Male</td>\n",
       "      <td>College degree, bachelor, master</td>\n",
       "      <td>College degree</td>\n",
       "      <td>Retired</td>\n",
       "      <td>Italy</td>\n",
       "      <td>Married/cohabiting</td>\n",
       "      <td>0.0</td>\n",
       "      <td>No</td>\n",
       "      <td>Life carries on with minor changes</td>\n",
       "      <td>1.0</td>\n",
       "      <td>0.0</td>\n",
       "      <td>5.0</td>\n",
       "      <td>5.0</td>\n",
       "      <td>5.0</td>\n",
       "      <td>5.0</td>\n",
       "      <td>5.0</td>\n",
       "    </tr>\n",
       "    <tr>\n",
       "      <th>2</th>\n",
       "      <td>Yes</td>\n",
       "      <td>29</td>\n",
       "      <td>Other/would rather not say</td>\n",
       "      <td>Some College, short continuing education or eq...</td>\n",
       "      <td>Some College or equivalent</td>\n",
       "      <td>Part time employed</td>\n",
       "      <td>Argentina</td>\n",
       "      <td>Other or would rather not say</td>\n",
       "      <td>1.0</td>\n",
       "      <td>Yes</td>\n",
       "      <td>Isolated</td>\n",
       "      <td>0.0</td>\n",
       "      <td>1.0</td>\n",
       "      <td>2.0</td>\n",
       "      <td>2.0</td>\n",
       "      <td>2.0</td>\n",
       "      <td>5.0</td>\n",
       "      <td>5.0</td>\n",
       "    </tr>\n",
       "    <tr>\n",
       "      <th>3</th>\n",
       "      <td>Yes</td>\n",
       "      <td>38</td>\n",
       "      <td>Female</td>\n",
       "      <td>Up to 12 years of school</td>\n",
       "      <td>Up to 12 years of school</td>\n",
       "      <td>Not employed</td>\n",
       "      <td>Argentina</td>\n",
       "      <td>Married/cohabiting</td>\n",
       "      <td>1.0</td>\n",
       "      <td>Yes</td>\n",
       "      <td>Life carries on with minor changes</td>\n",
       "      <td>1.0</td>\n",
       "      <td>0.0</td>\n",
       "      <td>4.0</td>\n",
       "      <td>4.0</td>\n",
       "      <td>3.0</td>\n",
       "      <td>3.0</td>\n",
       "      <td>4.0</td>\n",
       "    </tr>\n",
       "    <tr>\n",
       "      <th>4</th>\n",
       "      <td>No</td>\n",
       "      <td>35</td>\n",
       "      <td>Female</td>\n",
       "      <td>College degree, bachelor, master</td>\n",
       "      <td>College degree</td>\n",
       "      <td>Full time employed</td>\n",
       "      <td>Panama</td>\n",
       "      <td>Married/cohabiting</td>\n",
       "      <td>NaN</td>\n",
       "      <td>Yes</td>\n",
       "      <td>Life carries on with minor changes</td>\n",
       "      <td>2.0</td>\n",
       "      <td>2.0</td>\n",
       "      <td>2.0</td>\n",
       "      <td>2.0</td>\n",
       "      <td>2.0</td>\n",
       "      <td>2.0</td>\n",
       "      <td>2.0</td>\n",
       "    </tr>\n",
       "  </tbody>\n",
       "</table>\n",
       "</div>"
      ],
      "text/plain": [
       "  answered_all  Dem_age                  Dem_gender  \\\n",
       "0           No       61                      Female   \n",
       "1          Yes       68                        Male   \n",
       "2          Yes       29  Other/would rather not say   \n",
       "3          Yes       38                      Female   \n",
       "4           No       35                      Female   \n",
       "\n",
       "                                             Dem_edu  \\\n",
       "0  Some College, short continuing education or eq...   \n",
       "1                   College degree, bachelor, master   \n",
       "2  Some College, short continuing education or eq...   \n",
       "3                           Up to 12 years of school   \n",
       "4                   College degree, bachelor, master   \n",
       "\n",
       "                  Dem_edu_mom      Dem_employment    Country  \\\n",
       "0    Up to 12 years of school             Retired  Argentina   \n",
       "1              College degree             Retired      Italy   \n",
       "2  Some College or equivalent  Part time employed  Argentina   \n",
       "3    Up to 12 years of school        Not employed  Argentina   \n",
       "4              College degree  Full time employed     Panama   \n",
       "\n",
       "               Dem_maritalstatus  Dem_dependents Dem_riskgroup  \\\n",
       "0             Married/cohabiting             0.0           Yes   \n",
       "1             Married/cohabiting             0.0            No   \n",
       "2  Other or would rather not say             1.0           Yes   \n",
       "3             Married/cohabiting             1.0           Yes   \n",
       "4             Married/cohabiting             NaN           Yes   \n",
       "\n",
       "                        Dem_isolation  Dem_isolation_adults  \\\n",
       "0                            Isolated                   1.0   \n",
       "1  Life carries on with minor changes                   1.0   \n",
       "2                            Isolated                   0.0   \n",
       "3  Life carries on with minor changes                   1.0   \n",
       "4  Life carries on with minor changes                   2.0   \n",
       "\n",
       "   Dem_isolation_kids  Corona_concerns_yourself  Corona_concerns_family  \\\n",
       "0                 0.0                       4.0                     4.0   \n",
       "1                 0.0                       5.0                     5.0   \n",
       "2                 1.0                       2.0                     2.0   \n",
       "3                 0.0                       4.0                     4.0   \n",
       "4                 2.0                       2.0                     2.0   \n",
       "\n",
       "   Corona_concerns_close_friends  Corona_concerns_country  \\\n",
       "0                            3.0                      6.0   \n",
       "1                            5.0                      5.0   \n",
       "2                            2.0                      5.0   \n",
       "3                            3.0                      3.0   \n",
       "4                            2.0                      2.0   \n",
       "\n",
       "   Corona_concerns_global  \n",
       "0                     NaN  \n",
       "1                     5.0  \n",
       "2                     5.0  \n",
       "3                     4.0  \n",
       "4                     2.0  "
      ]
     },
     "execution_count": 7,
     "metadata": {},
     "output_type": "execute_result"
    }
   ],
   "source": [
    "train_df.isnull().sum().max() #just checking that there's no missing data missing...\n",
    "train_df.head(5)"
   ]
  },
  {
   "cell_type": "code",
   "execution_count": 8,
   "id": "10743e00",
   "metadata": {},
   "outputs": [
    {
     "data": {
      "text/html": [
       "<div>\n",
       "<style scoped>\n",
       "    .dataframe tbody tr th:only-of-type {\n",
       "        vertical-align: middle;\n",
       "    }\n",
       "\n",
       "    .dataframe tbody tr th {\n",
       "        vertical-align: top;\n",
       "    }\n",
       "\n",
       "    .dataframe thead th {\n",
       "        text-align: right;\n",
       "    }\n",
       "</style>\n",
       "<table border=\"1\" class=\"dataframe\">\n",
       "  <thead>\n",
       "    <tr style=\"text-align: right;\">\n",
       "      <th></th>\n",
       "      <th>answered_all</th>\n",
       "      <th>Dem_age</th>\n",
       "      <th>Dem_gender</th>\n",
       "      <th>Dem_edu</th>\n",
       "      <th>Dem_edu_mom</th>\n",
       "      <th>Dem_employment</th>\n",
       "      <th>Country</th>\n",
       "      <th>Dem_maritalstatus</th>\n",
       "      <th>Dem_dependents</th>\n",
       "      <th>Dem_riskgroup</th>\n",
       "      <th>Dem_isolation</th>\n",
       "      <th>Dem_isolation_adults</th>\n",
       "      <th>Dem_isolation_kids</th>\n",
       "      <th>Corona_concerns_yourself</th>\n",
       "      <th>Corona_concerns_family</th>\n",
       "      <th>Corona_concerns_close_friends</th>\n",
       "      <th>Corona_concerns_country</th>\n",
       "      <th>Corona_concerns_global</th>\n",
       "    </tr>\n",
       "  </thead>\n",
       "  <tbody>\n",
       "    <tr>\n",
       "      <th>0</th>\n",
       "      <td>No</td>\n",
       "      <td>61</td>\n",
       "      <td>Female</td>\n",
       "      <td>Some College, short continuing education or eq...</td>\n",
       "      <td>Up to 12 years of school</td>\n",
       "      <td>Retired</td>\n",
       "      <td>Argentina</td>\n",
       "      <td>Married/cohabiting</td>\n",
       "      <td>0.0</td>\n",
       "      <td>Yes</td>\n",
       "      <td>Isolated</td>\n",
       "      <td>1.0</td>\n",
       "      <td>0.0</td>\n",
       "      <td>4.0</td>\n",
       "      <td>4.0</td>\n",
       "      <td>3.0</td>\n",
       "      <td>6.0</td>\n",
       "      <td>0.0</td>\n",
       "    </tr>\n",
       "    <tr>\n",
       "      <th>1</th>\n",
       "      <td>Yes</td>\n",
       "      <td>68</td>\n",
       "      <td>Male</td>\n",
       "      <td>College degree, bachelor, master</td>\n",
       "      <td>College degree</td>\n",
       "      <td>Retired</td>\n",
       "      <td>Italy</td>\n",
       "      <td>Married/cohabiting</td>\n",
       "      <td>0.0</td>\n",
       "      <td>No</td>\n",
       "      <td>Life carries on with minor changes</td>\n",
       "      <td>1.0</td>\n",
       "      <td>0.0</td>\n",
       "      <td>5.0</td>\n",
       "      <td>5.0</td>\n",
       "      <td>5.0</td>\n",
       "      <td>5.0</td>\n",
       "      <td>5.0</td>\n",
       "    </tr>\n",
       "    <tr>\n",
       "      <th>2</th>\n",
       "      <td>Yes</td>\n",
       "      <td>29</td>\n",
       "      <td>Other/would rather not say</td>\n",
       "      <td>Some College, short continuing education or eq...</td>\n",
       "      <td>Some College or equivalent</td>\n",
       "      <td>Part time employed</td>\n",
       "      <td>Argentina</td>\n",
       "      <td>Other or would rather not say</td>\n",
       "      <td>1.0</td>\n",
       "      <td>Yes</td>\n",
       "      <td>Isolated</td>\n",
       "      <td>0.0</td>\n",
       "      <td>1.0</td>\n",
       "      <td>2.0</td>\n",
       "      <td>2.0</td>\n",
       "      <td>2.0</td>\n",
       "      <td>5.0</td>\n",
       "      <td>5.0</td>\n",
       "    </tr>\n",
       "    <tr>\n",
       "      <th>3</th>\n",
       "      <td>Yes</td>\n",
       "      <td>38</td>\n",
       "      <td>Female</td>\n",
       "      <td>Up to 12 years of school</td>\n",
       "      <td>Up to 12 years of school</td>\n",
       "      <td>Not employed</td>\n",
       "      <td>Argentina</td>\n",
       "      <td>Married/cohabiting</td>\n",
       "      <td>1.0</td>\n",
       "      <td>Yes</td>\n",
       "      <td>Life carries on with minor changes</td>\n",
       "      <td>1.0</td>\n",
       "      <td>0.0</td>\n",
       "      <td>4.0</td>\n",
       "      <td>4.0</td>\n",
       "      <td>3.0</td>\n",
       "      <td>3.0</td>\n",
       "      <td>4.0</td>\n",
       "    </tr>\n",
       "    <tr>\n",
       "      <th>4</th>\n",
       "      <td>No</td>\n",
       "      <td>35</td>\n",
       "      <td>Female</td>\n",
       "      <td>College degree, bachelor, master</td>\n",
       "      <td>College degree</td>\n",
       "      <td>Full time employed</td>\n",
       "      <td>Panama</td>\n",
       "      <td>Married/cohabiting</td>\n",
       "      <td>0.0</td>\n",
       "      <td>Yes</td>\n",
       "      <td>Life carries on with minor changes</td>\n",
       "      <td>2.0</td>\n",
       "      <td>2.0</td>\n",
       "      <td>2.0</td>\n",
       "      <td>2.0</td>\n",
       "      <td>2.0</td>\n",
       "      <td>2.0</td>\n",
       "      <td>2.0</td>\n",
       "    </tr>\n",
       "  </tbody>\n",
       "</table>\n",
       "</div>"
      ],
      "text/plain": [
       "  answered_all  Dem_age                  Dem_gender  \\\n",
       "0           No       61                      Female   \n",
       "1          Yes       68                        Male   \n",
       "2          Yes       29  Other/would rather not say   \n",
       "3          Yes       38                      Female   \n",
       "4           No       35                      Female   \n",
       "\n",
       "                                             Dem_edu  \\\n",
       "0  Some College, short continuing education or eq...   \n",
       "1                   College degree, bachelor, master   \n",
       "2  Some College, short continuing education or eq...   \n",
       "3                           Up to 12 years of school   \n",
       "4                   College degree, bachelor, master   \n",
       "\n",
       "                  Dem_edu_mom      Dem_employment    Country  \\\n",
       "0    Up to 12 years of school             Retired  Argentina   \n",
       "1              College degree             Retired      Italy   \n",
       "2  Some College or equivalent  Part time employed  Argentina   \n",
       "3    Up to 12 years of school        Not employed  Argentina   \n",
       "4              College degree  Full time employed     Panama   \n",
       "\n",
       "               Dem_maritalstatus  Dem_dependents Dem_riskgroup  \\\n",
       "0             Married/cohabiting             0.0           Yes   \n",
       "1             Married/cohabiting             0.0            No   \n",
       "2  Other or would rather not say             1.0           Yes   \n",
       "3             Married/cohabiting             1.0           Yes   \n",
       "4             Married/cohabiting             0.0           Yes   \n",
       "\n",
       "                        Dem_isolation  Dem_isolation_adults  \\\n",
       "0                            Isolated                   1.0   \n",
       "1  Life carries on with minor changes                   1.0   \n",
       "2                            Isolated                   0.0   \n",
       "3  Life carries on with minor changes                   1.0   \n",
       "4  Life carries on with minor changes                   2.0   \n",
       "\n",
       "   Dem_isolation_kids  Corona_concerns_yourself  Corona_concerns_family  \\\n",
       "0                 0.0                       4.0                     4.0   \n",
       "1                 0.0                       5.0                     5.0   \n",
       "2                 1.0                       2.0                     2.0   \n",
       "3                 0.0                       4.0                     4.0   \n",
       "4                 2.0                       2.0                     2.0   \n",
       "\n",
       "   Corona_concerns_close_friends  Corona_concerns_country  \\\n",
       "0                            3.0                      6.0   \n",
       "1                            5.0                      5.0   \n",
       "2                            2.0                      5.0   \n",
       "3                            3.0                      3.0   \n",
       "4                            2.0                      2.0   \n",
       "\n",
       "   Corona_concerns_global  \n",
       "0                     0.0  \n",
       "1                     5.0  \n",
       "2                     5.0  \n",
       "3                     4.0  \n",
       "4                     2.0  "
      ]
     },
     "execution_count": 8,
     "metadata": {},
     "output_type": "execute_result"
    }
   ],
   "source": [
    "defaultInt = 0\n",
    "defaultString = 'NaN'\n",
    "defaultFloat = 0.0\n",
    "\n",
    "# Create lists by data tpe\n",
    "intFeatures = ['Dem_age']\n",
    "stringFeatures = ['answered_all','Dem_gender','Dem_edu','Dem_edu_mom','Dem_employment','Country','Dem_maritalstatus','Dem_riskgroup','Dem_isolation']\n",
    "floatFeatures = ['Dem_dependents','Dem_isolation_adults','Dem_isolation_kids','Corona_concerns_yourself','Corona_concerns_family','Corona_concerns_close_friends','Corona_concerns_country','Corona_concerns_global']\n",
    "for feature in train_df:\n",
    "    if feature in intFeatures:\n",
    "        train_df[feature] = train_df[feature].fillna(defaultInt)\n",
    "    elif feature in stringFeatures:\n",
    "        train_df[feature] = train_df[feature].fillna(defaultString)\n",
    "    elif feature in floatFeatures:\n",
    "        train_df[feature] = train_df[feature].fillna(defaultFloat)\n",
    "    else:\n",
    "        print('Error: Feature %s not recognized.' % feature)\n",
    "train_df.head(5)   "
   ]
  },
  {
   "cell_type": "markdown",
   "id": "8a7d1cc5",
   "metadata": {},
   "source": [
    "# Checking null values"
   ]
  },
  {
   "cell_type": "code",
   "execution_count": 9,
   "id": "49992520",
   "metadata": {},
   "outputs": [
    {
     "data": {
      "text/plain": [
       "<AxesSubplot:>"
      ]
     },
     "execution_count": 9,
     "metadata": {},
     "output_type": "execute_result"
    },
    {
     "data": {
      "image/png": "[encoded data removed]",
      "text/plain": [
       "<Figure size 432x288 with 2 Axes>"
      ]
     },
     "metadata": {
      "needs_background": "light"
     },
     "output_type": "display_data"
    }
   ],
   "source": [
    "import seaborn as sns\n",
    "sns.heatmap(train_df.isnull(),cmap='plasma')"
   ]
  },
  {
   "cell_type": "markdown",
   "id": "1ea34187",
   "metadata": {},
   "source": [
    "# Visualization"
   ]
  },
  {
   "cell_type": "code",
   "execution_count": 10,
   "id": "1a713004",
   "metadata": {},
   "outputs": [
    {
     "data": {
      "text/plain": [
       "<AxesSubplot:xlabel='answered_all', ylabel='count'>"
      ]
     },
     "execution_count": 10,
     "metadata": {},
     "output_type": "execute_result"
    },
    {
     "data": {
      "image/png": "[encoded data removed]",
      "text/plain": [
       "<Figure size 432x288 with 1 Axes>"
      ]
     },
     "metadata": {
      "needs_background": "light"
     },
     "output_type": "display_data"
    }
   ],
   "source": [
    "sns.countplot(x='answered_all',hue='Dem_gender',data=train_df)"
   ]
  },
  {
   "cell_type": "code",
   "execution_count": 11,
   "id": "994e0261",
   "metadata": {},
   "outputs": [
    {
     "data": {
      "text/plain": [
       "<AxesSubplot:xlabel='answered_all', ylabel='count'>"
      ]
     },
     "execution_count": 11,
     "metadata": {},
     "output_type": "execute_result"
    },
    {
     "data": {
      "image/png": "[encoded data removed]",
      "text/plain": [
       "<Figure size 432x288 with 1 Axes>"
      ]
     },
     "metadata": {
      "needs_background": "light"
     },
     "output_type": "display_data"
    }
   ],
   "source": [
    "sns.countplot(x='answered_all',hue='Dem_employment',data=train_df)"
   ]
  },
  {
   "cell_type": "code",
   "execution_count": 12,
   "id": "a7962680",
   "metadata": {},
   "outputs": [
    {
     "data": {
      "text/plain": [
       "<AxesSubplot:xlabel='answered_all', ylabel='count'>"
      ]
     },
     "execution_count": 12,
     "metadata": {},
     "output_type": "execute_result"
    },
    {
     "data": {
      "image/png": "[encoded data removed]",
      "text/plain": [
       "<Figure size 432x288 with 1 Axes>"
      ]
     },
     "metadata": {
      "needs_background": "light"
     },
     "output_type": "display_data"
    }
   ],
   "source": [
    "sns.countplot(x='answered_all',hue='Dem_isolation',data=train_df)"
   ]
  },
  {
   "cell_type": "code",
   "execution_count": 13,
   "id": "a49416f9",
   "metadata": {},
   "outputs": [
    {
     "data": {
      "text/plain": [
       "<AxesSubplot:xlabel='answered_all', ylabel='count'>"
      ]
     },
     "execution_count": 13,
     "metadata": {},
     "output_type": "execute_result"
    },
    {
     "data": {
      "image/png": "[encoded data removed]",
      "text/plain": [
       "<Figure size 432x288 with 1 Axes>"
      ]
     },
     "metadata": {
      "needs_background": "light"
     },
     "output_type": "display_data"
    }
   ],
   "source": [
    "sns.countplot(x='answered_all',hue='Corona_concerns_family',data=train_df)"
   ]
  },
  {
   "cell_type": "code",
   "execution_count": 14,
   "id": "b54b2930",
   "metadata": {},
   "outputs": [
    {
     "name": "stdout",
     "output_type": "stream",
     "text": [
      "label_answered_all ['No', 'Yes']\n",
      "label_Dem_age [18, 19, 20, 21, 22, 23, 24, 25, 26, 27, 28, 29, 30, 31, 32, 33, 34, 35, 36, 37, 38, 39, 40, 41, 42, 43, 44, 45, 46, 47, 48, 49, 50, 51, 52, 53, 54, 55, 56, 57, 58, 59, 60, 61, 62, 63, 64, 65, 66, 67, 68, 69, 70, 71, 72, 73, 74, 75, 76, 77, 78, 79, 80, 81, 82, 83, 84, 85, 86, 87, 88, 89, 90, 91, 92, 93, 95, 97, 99, 101, 105, 107, 108, 110]\n",
      "label_Dem_gender ['Female', 'Male', 'NaN', 'Other/would rather not say']\n",
      "label_Dem_edu ['College degree, bachelor, master', 'NaN', 'None', 'PhD/Doctorate', 'Some College, short continuing education or equivalent', 'Uninformative response', 'Up to 12 years of school', 'Up to 6 years of school', 'Up to 9 years of school']\n",
      "label_Dem_edu_mom ['College degree', 'NaN', 'None', 'PhD/Doctorate', 'Some College or equivalent', 'Uninformative response', 'Up to 12 years of school', 'Up to 6 years of school', 'Up to 9 years of school']\n",
      "label_Dem_employment ['Full time employed', 'NaN', 'Not employed', 'Part time employed', 'Retired', 'Self-employed', 'Student']\n",
      "label_Country ['Afghanistan', 'Albania', 'Algeria', 'Andorra', 'Angola', 'Antigua and Barbuda', 'Argentina', 'Armenia', 'Australia', 'Austria', 'Azerbaijan', 'Bahrain', 'Bangladesh', 'Barbados', 'Belarus', 'Belgium', 'Belize', 'Benin', 'Bolivia', 'Bosnia and Herzegovina', 'Brazil', 'Brunei', 'Bulgaria', 'Burkina Faso', 'Burundi', 'Cabo Verde', 'Cambodia', 'Cameroon', 'Canada', 'Chile', 'China', 'Colombia', 'Comoros', 'Congo, Democratic Republic of the', 'Congo, Republic of the', 'Costa Rica', 'Croatia', 'Cuba', 'Cyprus', 'Czech Republic', 'Côte d\\x92Ivoire', 'Denmark', 'Djibouti', 'Dominica', 'Dominican Republic', 'East Timor (Timor-Leste)', 'Ecuador', 'Egypt', 'El Salvador', 'Eritrea', 'Estonia', 'Ethiopia', 'Fiji', 'Finland', 'France', 'Gabon', 'Georgia', 'Germany', 'Ghana', 'Greece', 'Grenada', 'Guatemala', 'Guinea', 'Guinea-Bissau', 'Guyana', 'Haiti', 'Honduras', 'Hungary', 'Iceland', 'India', 'Indonesia', 'Iran', 'Iraq', 'Ireland', 'Israel', 'Italy', 'Japan', 'Jordan', 'Kazakhstan', 'Kenya', 'Korea, South', 'Kosovo', 'Kuwait', 'Kyrgyzstan', 'Laos', 'Latvia', 'Lebanon', 'Lesotho', 'Libya', 'Liechtenstein', 'Lithuania', 'Luxembourg', 'Madagascar', 'Malawi', 'Malaysia', 'Maldives', 'Mali', 'Malta', 'Mauritania', 'Mauritius', 'Mexico', 'Micronesia, Federated States of', 'Moldova', 'Monaco', 'Montenegro', 'Morocco', 'Mozambique', 'Myanmar (Burma)', 'NaN', 'Namibia', 'Nauru', 'Nepal', 'Netherlands', 'New Zealand', 'Nicaragua', 'Niger', 'Nigeria', 'North Macedonia', 'Norway', 'Oman', 'Pakistan', 'Panama', 'Paraguay', 'Peru', 'Philippines', 'Poland', 'Portugal', 'Qatar', 'Romania', 'Russia', 'Rwanda', 'Saint Lucia', 'Saint Vincent and the Grenadines', 'San Marino', 'Sao Tome and Principe', 'Saudi Arabia', 'Senegal', 'Serbia', 'Seychelles', 'Singapore', 'Slovakia', 'Slovenia', 'Solomon Islands', 'Somalia', 'South Africa', 'Spain', 'Sri Lanka', 'Sudan', 'Sudan, South', 'Suriname', 'Sweden', 'Switzerland', 'Taiwan', 'Tajikistan', 'Tanzania', 'Thailand', 'The Bahamas', 'The Gambia', 'Trinidad and Tobago', 'Tunisia', 'Turkey', 'Turkmenistan', 'Uganda', 'Ukraine', 'United Arab Emirates', 'United Kingdom', 'United States', 'Uruguay', 'Uzbekistan', 'Venezuela', 'Vietnam', 'Zambia', 'Zimbabwe', 'other']\n",
      "label_Dem_maritalstatus ['Divorced/widowed', 'Married/cohabiting', 'NaN', 'Other or would rather not say', 'Single', 'Uninformative response']\n",
      "label_Dem_dependents [0.0, 1.0, 2.0, 3.0, 4.0, 5.0, 6.0, 7.0, 8.0, 9.0, 10.0, 11.0, 12.0, 13.0, 14.0, 15.0, 16.0, 17.0, 19.0, 20.0, 21.0, 24.0, 25.0, 26.0, 28.0, 30.0, 32.0, 34.0, 40.0, 46.0, 54.0, 63.0, 66.0, 70.0, 83.0, 84.0, 85.0, 100.0, 110.0]\n",
      "label_Dem_riskgroup ['NaN', 'No', 'Not sure', 'Yes']\n",
      "label_Dem_isolation ['1', 'Isolated', 'Isolated in medical facility of similar location', 'Life carries on as usual', 'Life carries on with minor changes', 'NaN']\n",
      "label_Dem_isolation_adults [0.0, 1.0, 2.0, 3.0, 4.0, 5.0, 6.0, 7.0, 8.0, 9.0, 10.0, 11.0, 12.0, 13.0, 14.0, 15.0, 16.0, 17.0, 18.0, 19.0, 20.0, 21.0, 22.0, 24.0, 25.0, 26.0, 28.0, 29.0, 30.0, 31.0, 32.0, 35.0, 37.0, 38.0, 40.0, 41.0, 44.0, 45.0, 48.0, 50.0, 57.0, 58.0, 59.0, 60.0, 65.0, 67.0, 70.0, 74.0, 80.0, 85.0, 100.0, 104.0, 109.0, 110.0]\n",
      "label_Dem_isolation_kids [0.0, 1.0, 2.0, 3.0, 4.0, 5.0, 6.0, 7.0, 8.0, 9.0, 10.0, 11.0, 12.0, 13.0, 14.0, 15.0, 16.0, 17.0, 18.0, 19.0, 20.0, 23.0, 25.0, 30.0, 50.0, 60.0, 70.0, 73.0, 75.0, 92.0, 106.0, 110.0]\n",
      "label_Corona_concerns_yourself [0.0, 1.0, 2.0, 3.0, 4.0, 5.0, 6.0]\n",
      "label_Corona_concerns_family [0.0, 1.0, 2.0, 3.0, 4.0, 5.0, 6.0]\n",
      "label_Corona_concerns_close_friends [0.0, 1.0, 2.0, 3.0, 4.0, 5.0, 6.0]\n",
      "label_Corona_concerns_country [0.0, 1.0, 2.0, 3.0, 4.0, 5.0, 6.0]\n",
      "label_Corona_concerns_global [0.0, 1.0, 2.0, 3.0, 4.0, 5.0, 6.0]\n"
     ]
    }
   ],
   "source": [
    "labelDict = {}\n",
    "for feature in train_df:\n",
    "    le = preprocessing.LabelEncoder()\n",
    "    le.fit(train_df[feature])\n",
    "    le_name_mapping = dict(zip(le.classes_, le.transform(le.classes_)))\n",
    "    train_df[feature] = le.transform(train_df[feature])\n",
    "    labelKey = 'label_' + feature\n",
    "    labelValue = [*le_name_mapping]\n",
    "    labelDict[labelKey] =labelValue\n",
    "    \n",
    "for key, value in labelDict.items():     \n",
    "    print(key, value)\n",
    "\n"
   ]
  },
  {
   "cell_type": "code",
   "execution_count": 15,
   "id": "6a806730",
   "metadata": {},
   "outputs": [
    {
     "data": {
      "text/html": [
       "<div>\n",
       "<style scoped>\n",
       "    .dataframe tbody tr th:only-of-type {\n",
       "        vertical-align: middle;\n",
       "    }\n",
       "\n",
       "    .dataframe tbody tr th {\n",
       "        vertical-align: top;\n",
       "    }\n",
       "\n",
       "    .dataframe thead th {\n",
       "        text-align: right;\n",
       "    }\n",
       "</style>\n",
       "<table border=\"1\" class=\"dataframe\">\n",
       "  <thead>\n",
       "    <tr style=\"text-align: right;\">\n",
       "      <th></th>\n",
       "      <th>answered_all</th>\n",
       "      <th>Dem_age</th>\n",
       "      <th>Dem_gender</th>\n",
       "      <th>Dem_edu</th>\n",
       "      <th>Dem_edu_mom</th>\n",
       "      <th>Dem_employment</th>\n",
       "      <th>Country</th>\n",
       "      <th>Dem_maritalstatus</th>\n",
       "      <th>Dem_dependents</th>\n",
       "      <th>Dem_riskgroup</th>\n",
       "      <th>Dem_isolation</th>\n",
       "      <th>Dem_isolation_adults</th>\n",
       "      <th>Dem_isolation_kids</th>\n",
       "      <th>Corona_concerns_yourself</th>\n",
       "      <th>Corona_concerns_family</th>\n",
       "      <th>Corona_concerns_close_friends</th>\n",
       "      <th>Corona_concerns_country</th>\n",
       "      <th>Corona_concerns_global</th>\n",
       "    </tr>\n",
       "  </thead>\n",
       "  <tbody>\n",
       "    <tr>\n",
       "      <th>0</th>\n",
       "      <td>0</td>\n",
       "      <td>43</td>\n",
       "      <td>0</td>\n",
       "      <td>4</td>\n",
       "      <td>6</td>\n",
       "      <td>4</td>\n",
       "      <td>6</td>\n",
       "      <td>1</td>\n",
       "      <td>0</td>\n",
       "      <td>3</td>\n",
       "      <td>1</td>\n",
       "      <td>1</td>\n",
       "      <td>0</td>\n",
       "      <td>4</td>\n",
       "      <td>4</td>\n",
       "      <td>3</td>\n",
       "      <td>6</td>\n",
       "      <td>0</td>\n",
       "    </tr>\n",
       "    <tr>\n",
       "      <th>1</th>\n",
       "      <td>1</td>\n",
       "      <td>50</td>\n",
       "      <td>1</td>\n",
       "      <td>0</td>\n",
       "      <td>0</td>\n",
       "      <td>4</td>\n",
       "      <td>75</td>\n",
       "      <td>1</td>\n",
       "      <td>0</td>\n",
       "      <td>1</td>\n",
       "      <td>4</td>\n",
       "      <td>1</td>\n",
       "      <td>0</td>\n",
       "      <td>5</td>\n",
       "      <td>5</td>\n",
       "      <td>5</td>\n",
       "      <td>5</td>\n",
       "      <td>5</td>\n",
       "    </tr>\n",
       "    <tr>\n",
       "      <th>2</th>\n",
       "      <td>1</td>\n",
       "      <td>11</td>\n",
       "      <td>3</td>\n",
       "      <td>4</td>\n",
       "      <td>4</td>\n",
       "      <td>3</td>\n",
       "      <td>6</td>\n",
       "      <td>3</td>\n",
       "      <td>1</td>\n",
       "      <td>3</td>\n",
       "      <td>1</td>\n",
       "      <td>0</td>\n",
       "      <td>1</td>\n",
       "      <td>2</td>\n",
       "      <td>2</td>\n",
       "      <td>2</td>\n",
       "      <td>5</td>\n",
       "      <td>5</td>\n",
       "    </tr>\n",
       "    <tr>\n",
       "      <th>3</th>\n",
       "      <td>1</td>\n",
       "      <td>20</td>\n",
       "      <td>0</td>\n",
       "      <td>6</td>\n",
       "      <td>6</td>\n",
       "      <td>2</td>\n",
       "      <td>6</td>\n",
       "      <td>1</td>\n",
       "      <td>1</td>\n",
       "      <td>3</td>\n",
       "      <td>4</td>\n",
       "      <td>1</td>\n",
       "      <td>0</td>\n",
       "      <td>4</td>\n",
       "      <td>4</td>\n",
       "      <td>3</td>\n",
       "      <td>3</td>\n",
       "      <td>4</td>\n",
       "    </tr>\n",
       "    <tr>\n",
       "      <th>4</th>\n",
       "      <td>0</td>\n",
       "      <td>17</td>\n",
       "      <td>0</td>\n",
       "      <td>0</td>\n",
       "      <td>0</td>\n",
       "      <td>0</td>\n",
       "      <td>121</td>\n",
       "      <td>1</td>\n",
       "      <td>0</td>\n",
       "      <td>3</td>\n",
       "      <td>4</td>\n",
       "      <td>2</td>\n",
       "      <td>2</td>\n",
       "      <td>2</td>\n",
       "      <td>2</td>\n",
       "      <td>2</td>\n",
       "      <td>2</td>\n",
       "      <td>2</td>\n",
       "    </tr>\n",
       "  </tbody>\n",
       "</table>\n",
       "</div>"
      ],
      "text/plain": [
       "   answered_all  Dem_age  Dem_gender  Dem_edu  Dem_edu_mom  Dem_employment  \\\n",
       "0             0       43           0        4            6               4   \n",
       "1             1       50           1        0            0               4   \n",
       "2             1       11           3        4            4               3   \n",
       "3             1       20           0        6            6               2   \n",
       "4             0       17           0        0            0               0   \n",
       "\n",
       "   Country  Dem_maritalstatus  Dem_dependents  Dem_riskgroup  Dem_isolation  \\\n",
       "0        6                  1               0              3              1   \n",
       "1       75                  1               0              1              4   \n",
       "2        6                  3               1              3              1   \n",
       "3        6                  1               1              3              4   \n",
       "4      121                  1               0              3              4   \n",
       "\n",
       "   Dem_isolation_adults  Dem_isolation_kids  Corona_concerns_yourself  \\\n",
       "0                     1                   0                         4   \n",
       "1                     1                   0                         5   \n",
       "2                     0                   1                         2   \n",
       "3                     1                   0                         4   \n",
       "4                     2                   2                         2   \n",
       "\n",
       "   Corona_concerns_family  Corona_concerns_close_friends  \\\n",
       "0                       4                              3   \n",
       "1                       5                              5   \n",
       "2                       2                              2   \n",
       "3                       4                              3   \n",
       "4                       2                              2   \n",
       "\n",
       "   Corona_concerns_country  Corona_concerns_global  \n",
       "0                        6                       0  \n",
       "1                        5                       5  \n",
       "2                        5                       5  \n",
       "3                        3                       4  \n",
       "4                        2                       2  "
      ]
     },
     "execution_count": 15,
     "metadata": {},
     "output_type": "execute_result"
    }
   ],
   "source": [
    "train_df.head()"
   ]
  },
  {
   "cell_type": "code",
   "execution_count": 16,
   "id": "247b0175",
   "metadata": {},
   "outputs": [
    {
     "name": "stderr",
     "output_type": "stream",
     "text": [
      "c:\\users\\priya\\appdata\\local\\programs\\python\\python36\\lib\\site-packages\\seaborn\\distributions.py:2557: FutureWarning: `distplot` is a deprecated function and will be removed in a future version. Please adapt your code to use either `displot` (a figure-level function with similar flexibility) or `histplot` (an axes-level function for histograms).\n",
      "  warnings.warn(msg, FutureWarning)\n"
     ]
    },
    {
     "data": {
      "text/plain": [
       "Text(0.5, 0, 'Age')"
      ]
     },
     "execution_count": 16,
     "metadata": {},
     "output_type": "execute_result"
    },
    {
     "data": {
      "image/png": "[encoded data removed]",
      "text/plain": [
       "<Figure size 864x576 with 1 Axes>"
      ]
     },
     "metadata": {
      "needs_background": "light"
     },
     "output_type": "display_data"
    }
   ],
   "source": [
    "plt.figure(figsize=(12,8))\n",
    "sns.distplot(train_df[\"Dem_age\"], bins=24)\n",
    "plt.title(\"Distribuition and density by Age\")\n",
    "plt.xlabel(\"Age\")"
   ]
  },
  {
   "cell_type": "markdown",
   "id": "5d6fd463",
   "metadata": {},
   "source": [
    "# Standardization"
   ]
  },
  {
   "cell_type": "code",
   "execution_count": 17,
   "id": "6082160d",
   "metadata": {},
   "outputs": [
    {
     "data": {
      "text/html": [
       "<div>\n",
       "<style scoped>\n",
       "    .dataframe tbody tr th:only-of-type {\n",
       "        vertical-align: middle;\n",
       "    }\n",
       "\n",
       "    .dataframe tbody tr th {\n",
       "        vertical-align: top;\n",
       "    }\n",
       "\n",
       "    .dataframe thead th {\n",
       "        text-align: right;\n",
       "    }\n",
       "</style>\n",
       "<table border=\"1\" class=\"dataframe\">\n",
       "  <thead>\n",
       "    <tr style=\"text-align: right;\">\n",
       "      <th></th>\n",
       "      <th>answered_all</th>\n",
       "      <th>Dem_age</th>\n",
       "      <th>Dem_gender</th>\n",
       "      <th>Dem_edu</th>\n",
       "      <th>Dem_edu_mom</th>\n",
       "      <th>Dem_employment</th>\n",
       "      <th>Country</th>\n",
       "      <th>Dem_maritalstatus</th>\n",
       "      <th>Dem_dependents</th>\n",
       "      <th>Dem_riskgroup</th>\n",
       "      <th>Dem_isolation</th>\n",
       "      <th>Dem_isolation_adults</th>\n",
       "      <th>Dem_isolation_kids</th>\n",
       "      <th>Corona_concerns_yourself</th>\n",
       "      <th>Corona_concerns_family</th>\n",
       "      <th>Corona_concerns_close_friends</th>\n",
       "      <th>Corona_concerns_country</th>\n",
       "      <th>Corona_concerns_global</th>\n",
       "    </tr>\n",
       "  </thead>\n",
       "  <tbody>\n",
       "    <tr>\n",
       "      <th>0</th>\n",
       "      <td>0</td>\n",
       "      <td>0.518072</td>\n",
       "      <td>0</td>\n",
       "      <td>4</td>\n",
       "      <td>6</td>\n",
       "      <td>4</td>\n",
       "      <td>6</td>\n",
       "      <td>1</td>\n",
       "      <td>0</td>\n",
       "      <td>3</td>\n",
       "      <td>1</td>\n",
       "      <td>1</td>\n",
       "      <td>0</td>\n",
       "      <td>4</td>\n",
       "      <td>4</td>\n",
       "      <td>3</td>\n",
       "      <td>6</td>\n",
       "      <td>0</td>\n",
       "    </tr>\n",
       "    <tr>\n",
       "      <th>1</th>\n",
       "      <td>1</td>\n",
       "      <td>0.602410</td>\n",
       "      <td>1</td>\n",
       "      <td>0</td>\n",
       "      <td>0</td>\n",
       "      <td>4</td>\n",
       "      <td>75</td>\n",
       "      <td>1</td>\n",
       "      <td>0</td>\n",
       "      <td>1</td>\n",
       "      <td>4</td>\n",
       "      <td>1</td>\n",
       "      <td>0</td>\n",
       "      <td>5</td>\n",
       "      <td>5</td>\n",
       "      <td>5</td>\n",
       "      <td>5</td>\n",
       "      <td>5</td>\n",
       "    </tr>\n",
       "    <tr>\n",
       "      <th>2</th>\n",
       "      <td>1</td>\n",
       "      <td>0.132530</td>\n",
       "      <td>3</td>\n",
       "      <td>4</td>\n",
       "      <td>4</td>\n",
       "      <td>3</td>\n",
       "      <td>6</td>\n",
       "      <td>3</td>\n",
       "      <td>1</td>\n",
       "      <td>3</td>\n",
       "      <td>1</td>\n",
       "      <td>0</td>\n",
       "      <td>1</td>\n",
       "      <td>2</td>\n",
       "      <td>2</td>\n",
       "      <td>2</td>\n",
       "      <td>5</td>\n",
       "      <td>5</td>\n",
       "    </tr>\n",
       "    <tr>\n",
       "      <th>3</th>\n",
       "      <td>1</td>\n",
       "      <td>0.240964</td>\n",
       "      <td>0</td>\n",
       "      <td>6</td>\n",
       "      <td>6</td>\n",
       "      <td>2</td>\n",
       "      <td>6</td>\n",
       "      <td>1</td>\n",
       "      <td>1</td>\n",
       "      <td>3</td>\n",
       "      <td>4</td>\n",
       "      <td>1</td>\n",
       "      <td>0</td>\n",
       "      <td>4</td>\n",
       "      <td>4</td>\n",
       "      <td>3</td>\n",
       "      <td>3</td>\n",
       "      <td>4</td>\n",
       "    </tr>\n",
       "    <tr>\n",
       "      <th>4</th>\n",
       "      <td>0</td>\n",
       "      <td>0.204819</td>\n",
       "      <td>0</td>\n",
       "      <td>0</td>\n",
       "      <td>0</td>\n",
       "      <td>0</td>\n",
       "      <td>121</td>\n",
       "      <td>1</td>\n",
       "      <td>0</td>\n",
       "      <td>3</td>\n",
       "      <td>4</td>\n",
       "      <td>2</td>\n",
       "      <td>2</td>\n",
       "      <td>2</td>\n",
       "      <td>2</td>\n",
       "      <td>2</td>\n",
       "      <td>2</td>\n",
       "      <td>2</td>\n",
       "    </tr>\n",
       "  </tbody>\n",
       "</table>\n",
       "</div>"
      ],
      "text/plain": [
       "   answered_all   Dem_age  Dem_gender  Dem_edu  Dem_edu_mom  Dem_employment  \\\n",
       "0             0  0.518072           0        4            6               4   \n",
       "1             1  0.602410           1        0            0               4   \n",
       "2             1  0.132530           3        4            4               3   \n",
       "3             1  0.240964           0        6            6               2   \n",
       "4             0  0.204819           0        0            0               0   \n",
       "\n",
       "   Country  Dem_maritalstatus  Dem_dependents  Dem_riskgroup  Dem_isolation  \\\n",
       "0        6                  1               0              3              1   \n",
       "1       75                  1               0              1              4   \n",
       "2        6                  3               1              3              1   \n",
       "3        6                  1               1              3              4   \n",
       "4      121                  1               0              3              4   \n",
       "\n",
       "   Dem_isolation_adults  Dem_isolation_kids  Corona_concerns_yourself  \\\n",
       "0                     1                   0                         4   \n",
       "1                     1                   0                         5   \n",
       "2                     0                   1                         2   \n",
       "3                     1                   0                         4   \n",
       "4                     2                   2                         2   \n",
       "\n",
       "   Corona_concerns_family  Corona_concerns_close_friends  \\\n",
       "0                       4                              3   \n",
       "1                       5                              5   \n",
       "2                       2                              2   \n",
       "3                       4                              3   \n",
       "4                       2                              2   \n",
       "\n",
       "   Corona_concerns_country  Corona_concerns_global  \n",
       "0                        6                       0  \n",
       "1                        5                       5  \n",
       "2                        5                       5  \n",
       "3                        3                       4  \n",
       "4                        2                       2  "
      ]
     },
     "execution_count": 17,
     "metadata": {},
     "output_type": "execute_result"
    }
   ],
   "source": [
    "scaler = MinMaxScaler()\n",
    "train_df['Dem_age'] = scaler.fit_transform(train_df[['Dem_age']])\n",
    "train_df.head()"
   ]
  },
  {
   "cell_type": "code",
   "execution_count": 18,
   "id": "3291bbe6",
   "metadata": {},
   "outputs": [
    {
     "data": {
      "text/plain": [
       "array([[0.51807229, 0.        , 4.        , ..., 3.        , 6.        ,\n",
       "        0.        ],\n",
       "       [0.60240964, 1.        , 0.        , ..., 5.        , 5.        ,\n",
       "        5.        ],\n",
       "       [0.13253012, 3.        , 4.        , ..., 2.        , 5.        ,\n",
       "        5.        ],\n",
       "       ...,\n",
       "       [0.40963855, 0.        , 4.        , ..., 4.        , 6.        ,\n",
       "        6.        ],\n",
       "       [0.43373494, 1.        , 4.        , ..., 2.        , 4.        ,\n",
       "        5.        ],\n",
       "       [0.46987952, 0.        , 6.        , ..., 5.        , 6.        ,\n",
       "        6.        ]])"
      ]
     },
     "execution_count": 18,
     "metadata": {},
     "output_type": "execute_result"
    }
   ],
   "source": [
    "x=train_df.drop('answered_all',axis=1).values\n",
    "x"
   ]
  },
  {
   "cell_type": "code",
   "execution_count": 19,
   "id": "5a19f507",
   "metadata": {},
   "outputs": [
    {
     "data": {
      "text/plain": [
       "array([0, 1, 1, ..., 0, 0, 0])"
      ]
     },
     "execution_count": 19,
     "metadata": {},
     "output_type": "execute_result"
    }
   ],
   "source": [
    "y=train_df['answered_all'].values\n",
    "y"
   ]
  },
  {
   "cell_type": "markdown",
   "id": "d219f20f",
   "metadata": {},
   "source": [
    "# Splitting training and testing dataset"
   ]
  },
  {
   "cell_type": "code",
   "execution_count": 20,
   "id": "f349f768",
   "metadata": {},
   "outputs": [],
   "source": [
    " from sklearn.model_selection import train_test_split\n",
    "x_train,x_test,y_train,y_test=train_test_split(x,y,test_size=0.3,random_state=0)\n"
   ]
  },
  {
   "cell_type": "markdown",
   "id": "b43eb11e",
   "metadata": {},
   "source": [
    "# Applying models"
   ]
  },
  {
   "cell_type": "markdown",
   "id": "f4c1304f",
   "metadata": {},
   "source": [
    "# 1.Logistic regression"
   ]
  },
  {
   "cell_type": "code",
   "execution_count": 21,
   "id": "67ec6983",
   "metadata": {},
   "outputs": [
    {
     "data": {
      "text/plain": [
       "LogisticRegression()"
      ]
     },
     "execution_count": 21,
     "metadata": {},
     "output_type": "execute_result"
    }
   ],
   "source": [
    "from sklearn.linear_model import LogisticRegression\n",
    "import warnings\n",
    "warnings.filterwarnings('ignore')\n",
    "classifier1=LogisticRegression()\n",
    "classifier1.fit(x_train,y_train)"
   ]
  },
  {
   "cell_type": "code",
   "execution_count": 22,
   "id": "c15dd1ca",
   "metadata": {},
   "outputs": [
    {
     "name": "stdout",
     "output_type": "stream",
     "text": [
      "(33838, 17)\n",
      "[[13891  5525]\n",
      " [ 6670  7752]]\n"
     ]
    },
    {
     "data": {
      "text/plain": [
       "0.6396063597139311"
      ]
     },
     "execution_count": 22,
     "metadata": {},
     "output_type": "execute_result"
    }
   ],
   "source": [
    "y_pred1=classifier1.predict(x_test)\n",
    "from sklearn.metrics import confusion_matrix,accuracy_score\n",
    "print(x_test.shape)\n",
    "cn1=confusion_matrix(y_test,y_pred1)\n",
    "print(cn1)\n",
    "accuracy_score(y_test,y_pred1)"
   ]
  },
  {
   "cell_type": "code",
   "execution_count": 23,
   "id": "52290488",
   "metadata": {},
   "outputs": [
    {
     "data": {
      "text/html": [
       "<div>\n",
       "<style scoped>\n",
       "    .dataframe tbody tr th:only-of-type {\n",
       "        vertical-align: middle;\n",
       "    }\n",
       "\n",
       "    .dataframe tbody tr th {\n",
       "        vertical-align: top;\n",
       "    }\n",
       "\n",
       "    .dataframe thead th {\n",
       "        text-align: right;\n",
       "    }\n",
       "</style>\n",
       "<table border=\"1\" class=\"dataframe\">\n",
       "  <thead>\n",
       "    <tr style=\"text-align: right;\">\n",
       "      <th></th>\n",
       "      <th>Actual price</th>\n",
       "      <th>Predicted price</th>\n",
       "    </tr>\n",
       "  </thead>\n",
       "  <tbody>\n",
       "    <tr>\n",
       "      <th>0</th>\n",
       "      <td>0</td>\n",
       "      <td>1</td>\n",
       "    </tr>\n",
       "    <tr>\n",
       "      <th>1</th>\n",
       "      <td>1</td>\n",
       "      <td>1</td>\n",
       "    </tr>\n",
       "    <tr>\n",
       "      <th>2</th>\n",
       "      <td>0</td>\n",
       "      <td>1</td>\n",
       "    </tr>\n",
       "    <tr>\n",
       "      <th>3</th>\n",
       "      <td>0</td>\n",
       "      <td>1</td>\n",
       "    </tr>\n",
       "    <tr>\n",
       "      <th>4</th>\n",
       "      <td>0</td>\n",
       "      <td>0</td>\n",
       "    </tr>\n",
       "    <tr>\n",
       "      <th>...</th>\n",
       "      <td>...</td>\n",
       "      <td>...</td>\n",
       "    </tr>\n",
       "    <tr>\n",
       "      <th>33833</th>\n",
       "      <td>1</td>\n",
       "      <td>1</td>\n",
       "    </tr>\n",
       "    <tr>\n",
       "      <th>33834</th>\n",
       "      <td>0</td>\n",
       "      <td>1</td>\n",
       "    </tr>\n",
       "    <tr>\n",
       "      <th>33835</th>\n",
       "      <td>0</td>\n",
       "      <td>0</td>\n",
       "    </tr>\n",
       "    <tr>\n",
       "      <th>33836</th>\n",
       "      <td>0</td>\n",
       "      <td>0</td>\n",
       "    </tr>\n",
       "    <tr>\n",
       "      <th>33837</th>\n",
       "      <td>0</td>\n",
       "      <td>0</td>\n",
       "    </tr>\n",
       "  </tbody>\n",
       "</table>\n",
       "<p>33838 rows × 2 columns</p>\n",
       "</div>"
      ],
      "text/plain": [
       "       Actual price  Predicted price\n",
       "0                 0                1\n",
       "1                 1                1\n",
       "2                 0                1\n",
       "3                 0                1\n",
       "4                 0                0\n",
       "...             ...              ...\n",
       "33833             1                1\n",
       "33834             0                1\n",
       "33835             0                0\n",
       "33836             0                0\n",
       "33837             0                0\n",
       "\n",
       "[33838 rows x 2 columns]"
      ]
     },
     "execution_count": 23,
     "metadata": {},
     "output_type": "execute_result"
    }
   ],
   "source": [
    "dframe=pd.DataFrame({'Actual price':y_test,'Predicted price':y_pred1})\n",
    "dframe"
   ]
  },
  {
   "cell_type": "code",
   "execution_count": 24,
   "id": "dce5a439",
   "metadata": {},
   "outputs": [
    {
     "data": {
      "image/png": "[encoded data removed]",
      "text/plain": [
       "<Figure size 432x288 with 1 Axes>"
      ]
     },
     "metadata": {
      "needs_background": "light"
     },
     "output_type": "display_data"
    }
   ],
   "source": [
    "svc_disp1 =plot_roc_curve(classifier1, x_test, y_test)\n",
    "plt.show()"
   ]
  },
  {
   "cell_type": "markdown",
   "id": "d32e0ded",
   "metadata": {},
   "source": [
    "# Decision tree"
   ]
  },
  {
   "cell_type": "code",
   "execution_count": 25,
   "id": "1cd4589a",
   "metadata": {},
   "outputs": [
    {
     "data": {
      "text/plain": [
       "DecisionTreeClassifier(criterion='entropy')"
      ]
     },
     "execution_count": 25,
     "metadata": {},
     "output_type": "execute_result"
    }
   ],
   "source": [
    "from sklearn.tree import DecisionTreeClassifier\n",
    "classifier2= DecisionTreeClassifier(criterion = 'entropy')\n",
    "classifier2.fit(x_train, y_train)\n"
   ]
  },
  {
   "cell_type": "code",
   "execution_count": 26,
   "id": "ee2847f4",
   "metadata": {},
   "outputs": [
    {
     "name": "stdout",
     "output_type": "stream",
     "text": [
      "(33838, 17)\n",
      "[[13514  5902]\n",
      " [ 5852  8570]]\n"
     ]
    },
    {
     "data": {
      "text/plain": [
       "0.6526390448608074"
      ]
     },
     "execution_count": 26,
     "metadata": {},
     "output_type": "execute_result"
    }
   ],
   "source": [
    "y_pred2=classifier2.predict(x_test)\n",
    "print(x_test.shape)\n",
    "cn2=confusion_matrix(y_test,y_pred2)\n",
    "print(cn2)\n",
    "accuracy_score(y_test,y_pred2)"
   ]
  },
  {
   "cell_type": "code",
   "execution_count": 27,
   "id": "685e9d4d",
   "metadata": {},
   "outputs": [
    {
     "data": {
      "text/html": [
       "<div>\n",
       "<style scoped>\n",
       "    .dataframe tbody tr th:only-of-type {\n",
       "        vertical-align: middle;\n",
       "    }\n",
       "\n",
       "    .dataframe tbody tr th {\n",
       "        vertical-align: top;\n",
       "    }\n",
       "\n",
       "    .dataframe thead th {\n",
       "        text-align: right;\n",
       "    }\n",
       "</style>\n",
       "<table border=\"1\" class=\"dataframe\">\n",
       "  <thead>\n",
       "    <tr style=\"text-align: right;\">\n",
       "      <th></th>\n",
       "      <th>Actual price</th>\n",
       "      <th>Predicted price</th>\n",
       "    </tr>\n",
       "  </thead>\n",
       "  <tbody>\n",
       "    <tr>\n",
       "      <th>0</th>\n",
       "      <td>0</td>\n",
       "      <td>1</td>\n",
       "    </tr>\n",
       "    <tr>\n",
       "      <th>1</th>\n",
       "      <td>1</td>\n",
       "      <td>1</td>\n",
       "    </tr>\n",
       "    <tr>\n",
       "      <th>2</th>\n",
       "      <td>0</td>\n",
       "      <td>0</td>\n",
       "    </tr>\n",
       "    <tr>\n",
       "      <th>3</th>\n",
       "      <td>0</td>\n",
       "      <td>1</td>\n",
       "    </tr>\n",
       "    <tr>\n",
       "      <th>4</th>\n",
       "      <td>0</td>\n",
       "      <td>1</td>\n",
       "    </tr>\n",
       "    <tr>\n",
       "      <th>...</th>\n",
       "      <td>...</td>\n",
       "      <td>...</td>\n",
       "    </tr>\n",
       "    <tr>\n",
       "      <th>33833</th>\n",
       "      <td>1</td>\n",
       "      <td>0</td>\n",
       "    </tr>\n",
       "    <tr>\n",
       "      <th>33834</th>\n",
       "      <td>0</td>\n",
       "      <td>1</td>\n",
       "    </tr>\n",
       "    <tr>\n",
       "      <th>33835</th>\n",
       "      <td>0</td>\n",
       "      <td>0</td>\n",
       "    </tr>\n",
       "    <tr>\n",
       "      <th>33836</th>\n",
       "      <td>0</td>\n",
       "      <td>0</td>\n",
       "    </tr>\n",
       "    <tr>\n",
       "      <th>33837</th>\n",
       "      <td>0</td>\n",
       "      <td>0</td>\n",
       "    </tr>\n",
       "  </tbody>\n",
       "</table>\n",
       "<p>33838 rows × 2 columns</p>\n",
       "</div>"
      ],
      "text/plain": [
       "       Actual price  Predicted price\n",
       "0                 0                1\n",
       "1                 1                1\n",
       "2                 0                0\n",
       "3                 0                1\n",
       "4                 0                1\n",
       "...             ...              ...\n",
       "33833             1                0\n",
       "33834             0                1\n",
       "33835             0                0\n",
       "33836             0                0\n",
       "33837             0                0\n",
       "\n",
       "[33838 rows x 2 columns]"
      ]
     },
     "execution_count": 27,
     "metadata": {},
     "output_type": "execute_result"
    }
   ],
   "source": [
    "dframe=pd.DataFrame({'Actual price':y_test,'Predicted price':y_pred2})\n",
    "dframe"
   ]
  },
  {
   "cell_type": "code",
   "execution_count": 28,
   "id": "7ce3a906",
   "metadata": {},
   "outputs": [
    {
     "data": {
      "image/png": "[encoded data removed]",
      "text/plain": [
       "<Figure size 432x288 with 1 Axes>"
      ]
     },
     "metadata": {
      "needs_background": "light"
     },
     "output_type": "display_data"
    }
   ],
   "source": [
    "svc_disp2 =plot_roc_curve(classifier2, x_test, y_test)\n",
    "plt.show()"
   ]
  },
  {
   "cell_type": "markdown",
   "id": "f3467673",
   "metadata": {},
   "source": [
    "# RandomForest"
   ]
  },
  {
   "cell_type": "code",
   "execution_count": 29,
   "id": "2a6531f8",
   "metadata": {},
   "outputs": [
    {
     "data": {
      "text/plain": [
       "RandomForestClassifier(criterion='entropy', n_estimators=10)"
      ]
     },
     "execution_count": 29,
     "metadata": {},
     "output_type": "execute_result"
    }
   ],
   "source": [
    "from sklearn.ensemble import RandomForestClassifier\n",
    "classifier3= RandomForestClassifier(n_estimators = 10, criterion = 'entropy')\n",
    "classifier3.fit(x_train, y_train)"
   ]
  },
  {
   "cell_type": "code",
   "execution_count": 30,
   "id": "83327896",
   "metadata": {},
   "outputs": [
    {
     "name": "stdout",
     "output_type": "stream",
     "text": [
      "(33838, 17)\n",
      "[[14291  5125]\n",
      " [ 5575  8847]]\n"
     ]
    },
    {
     "data": {
      "text/plain": [
       "0.683787457887582"
      ]
     },
     "execution_count": 30,
     "metadata": {},
     "output_type": "execute_result"
    }
   ],
   "source": [
    "y_pred3=classifier3.predict(x_test)\n",
    "print(x_test.shape)\n",
    "cn3=confusion_matrix(y_test,y_pred3)\n",
    "print(cn3)\n",
    "accuracy_score(y_test,y_pred3)\n"
   ]
  },
  {
   "cell_type": "code",
   "execution_count": 31,
   "id": "65c42ba4",
   "metadata": {},
   "outputs": [
    {
     "data": {
      "text/html": [
       "<div>\n",
       "<style scoped>\n",
       "    .dataframe tbody tr th:only-of-type {\n",
       "        vertical-align: middle;\n",
       "    }\n",
       "\n",
       "    .dataframe tbody tr th {\n",
       "        vertical-align: top;\n",
       "    }\n",
       "\n",
       "    .dataframe thead th {\n",
       "        text-align: right;\n",
       "    }\n",
       "</style>\n",
       "<table border=\"1\" class=\"dataframe\">\n",
       "  <thead>\n",
       "    <tr style=\"text-align: right;\">\n",
       "      <th></th>\n",
       "      <th>Actual price</th>\n",
       "      <th>Predicted price</th>\n",
       "    </tr>\n",
       "  </thead>\n",
       "  <tbody>\n",
       "    <tr>\n",
       "      <th>0</th>\n",
       "      <td>0</td>\n",
       "      <td>1</td>\n",
       "    </tr>\n",
       "    <tr>\n",
       "      <th>1</th>\n",
       "      <td>1</td>\n",
       "      <td>1</td>\n",
       "    </tr>\n",
       "    <tr>\n",
       "      <th>2</th>\n",
       "      <td>0</td>\n",
       "      <td>1</td>\n",
       "    </tr>\n",
       "    <tr>\n",
       "      <th>3</th>\n",
       "      <td>0</td>\n",
       "      <td>0</td>\n",
       "    </tr>\n",
       "    <tr>\n",
       "      <th>4</th>\n",
       "      <td>0</td>\n",
       "      <td>0</td>\n",
       "    </tr>\n",
       "    <tr>\n",
       "      <th>...</th>\n",
       "      <td>...</td>\n",
       "      <td>...</td>\n",
       "    </tr>\n",
       "    <tr>\n",
       "      <th>33833</th>\n",
       "      <td>1</td>\n",
       "      <td>1</td>\n",
       "    </tr>\n",
       "    <tr>\n",
       "      <th>33834</th>\n",
       "      <td>0</td>\n",
       "      <td>0</td>\n",
       "    </tr>\n",
       "    <tr>\n",
       "      <th>33835</th>\n",
       "      <td>0</td>\n",
       "      <td>0</td>\n",
       "    </tr>\n",
       "    <tr>\n",
       "      <th>33836</th>\n",
       "      <td>0</td>\n",
       "      <td>0</td>\n",
       "    </tr>\n",
       "    <tr>\n",
       "      <th>33837</th>\n",
       "      <td>0</td>\n",
       "      <td>0</td>\n",
       "    </tr>\n",
       "  </tbody>\n",
       "</table>\n",
       "<p>33838 rows × 2 columns</p>\n",
       "</div>"
      ],
      "text/plain": [
       "       Actual price  Predicted price\n",
       "0                 0                1\n",
       "1                 1                1\n",
       "2                 0                1\n",
       "3                 0                0\n",
       "4                 0                0\n",
       "...             ...              ...\n",
       "33833             1                1\n",
       "33834             0                0\n",
       "33835             0                0\n",
       "33836             0                0\n",
       "33837             0                0\n",
       "\n",
       "[33838 rows x 2 columns]"
      ]
     },
     "execution_count": 31,
     "metadata": {},
     "output_type": "execute_result"
    }
   ],
   "source": [
    "dframe=pd.DataFrame({'Actual price':y_test,'Predicted price':y_pred3})\n",
    "dframe"
   ]
  },
  {
   "cell_type": "code",
   "execution_count": 32,
   "id": "b26efe76",
   "metadata": {},
   "outputs": [
    {
     "data": {
      "image/png": "[encoded data removed]",
      "text/plain": [
       "<Figure size 432x288 with 1 Axes>"
      ]
     },
     "metadata": {
      "needs_background": "light"
     },
     "output_type": "display_data"
    }
   ],
   "source": [
    "svc_disp3=plot_roc_curve(classifier3, x_test, y_test)\n",
    "plt.show()"
   ]
  },
  {
   "cell_type": "markdown",
   "id": "3c691a8b",
   "metadata": {},
   "source": [
    "# Bagging"
   ]
  },
  {
   "cell_type": "code",
   "execution_count": 33,
   "id": "5e35984f",
   "metadata": {},
   "outputs": [],
   "source": [
    "bag = BaggingClassifier(DecisionTreeClassifier(), max_samples=1.0, max_features=1.0, bootstrap_features=False)\n",
    "bag.fit(x_train, y_train)\n",
    "y_pred4 = bag.predict(x_test)"
   ]
  },
  {
   "cell_type": "code",
   "execution_count": 34,
   "id": "8d1ad0e5",
   "metadata": {},
   "outputs": [
    {
     "name": "stdout",
     "output_type": "stream",
     "text": [
      "(33838, 17)\n",
      "[[14391  5025]\n",
      " [ 5922  8500]]\n"
     ]
    },
    {
     "data": {
      "text/plain": [
       "0.6764879721023701"
      ]
     },
     "execution_count": 34,
     "metadata": {},
     "output_type": "execute_result"
    }
   ],
   "source": [
    "print(x_test.shape)\n",
    "cn4=confusion_matrix(y_test,y_pred4)\n",
    "print(cn4)\n",
    "accuracy_score(y_test,y_pred4)"
   ]
  },
  {
   "cell_type": "code",
   "execution_count": 35,
   "id": "14131679",
   "metadata": {},
   "outputs": [
    {
     "data": {
      "text/html": [
       "<div>\n",
       "<style scoped>\n",
       "    .dataframe tbody tr th:only-of-type {\n",
       "        vertical-align: middle;\n",
       "    }\n",
       "\n",
       "    .dataframe tbody tr th {\n",
       "        vertical-align: top;\n",
       "    }\n",
       "\n",
       "    .dataframe thead th {\n",
       "        text-align: right;\n",
       "    }\n",
       "</style>\n",
       "<table border=\"1\" class=\"dataframe\">\n",
       "  <thead>\n",
       "    <tr style=\"text-align: right;\">\n",
       "      <th></th>\n",
       "      <th>Actual price</th>\n",
       "      <th>Predicted price</th>\n",
       "    </tr>\n",
       "  </thead>\n",
       "  <tbody>\n",
       "    <tr>\n",
       "      <th>0</th>\n",
       "      <td>0</td>\n",
       "      <td>1</td>\n",
       "    </tr>\n",
       "    <tr>\n",
       "      <th>1</th>\n",
       "      <td>1</td>\n",
       "      <td>1</td>\n",
       "    </tr>\n",
       "    <tr>\n",
       "      <th>2</th>\n",
       "      <td>0</td>\n",
       "      <td>1</td>\n",
       "    </tr>\n",
       "    <tr>\n",
       "      <th>3</th>\n",
       "      <td>0</td>\n",
       "      <td>0</td>\n",
       "    </tr>\n",
       "    <tr>\n",
       "      <th>4</th>\n",
       "      <td>0</td>\n",
       "      <td>1</td>\n",
       "    </tr>\n",
       "    <tr>\n",
       "      <th>...</th>\n",
       "      <td>...</td>\n",
       "      <td>...</td>\n",
       "    </tr>\n",
       "    <tr>\n",
       "      <th>33833</th>\n",
       "      <td>1</td>\n",
       "      <td>1</td>\n",
       "    </tr>\n",
       "    <tr>\n",
       "      <th>33834</th>\n",
       "      <td>0</td>\n",
       "      <td>1</td>\n",
       "    </tr>\n",
       "    <tr>\n",
       "      <th>33835</th>\n",
       "      <td>0</td>\n",
       "      <td>0</td>\n",
       "    </tr>\n",
       "    <tr>\n",
       "      <th>33836</th>\n",
       "      <td>0</td>\n",
       "      <td>0</td>\n",
       "    </tr>\n",
       "    <tr>\n",
       "      <th>33837</th>\n",
       "      <td>0</td>\n",
       "      <td>0</td>\n",
       "    </tr>\n",
       "  </tbody>\n",
       "</table>\n",
       "<p>33838 rows × 2 columns</p>\n",
       "</div>"
      ],
      "text/plain": [
       "       Actual price  Predicted price\n",
       "0                 0                1\n",
       "1                 1                1\n",
       "2                 0                1\n",
       "3                 0                0\n",
       "4                 0                1\n",
       "...             ...              ...\n",
       "33833             1                1\n",
       "33834             0                1\n",
       "33835             0                0\n",
       "33836             0                0\n",
       "33837             0                0\n",
       "\n",
       "[33838 rows x 2 columns]"
      ]
     },
     "execution_count": 35,
     "metadata": {},
     "output_type": "execute_result"
    }
   ],
   "source": [
    "dframe=pd.DataFrame({'Actual price':y_test,'Predicted price':y_pred4})\n",
    "dframe"
   ]
  },
  {
   "cell_type": "code",
   "execution_count": 36,
   "id": "fe173292",
   "metadata": {},
   "outputs": [
    {
     "data": {
      "image/png": "[encoded data removed]",
      "text/plain": [
       "<Figure size 432x288 with 1 Axes>"
      ]
     },
     "metadata": {
      "needs_background": "light"
     },
     "output_type": "display_data"
    }
   ],
   "source": [
    "svc_disp4 =plot_roc_curve(bag, x_test, y_test)\n",
    "plt.show()"
   ]
  },
  {
   "cell_type": "markdown",
   "id": "542dea65",
   "metadata": {},
   "source": [
    "# Boosting"
   ]
  },
  {
   "cell_type": "code",
   "execution_count": 37,
   "id": "2db11188",
   "metadata": {},
   "outputs": [],
   "source": [
    "clf = DecisionTreeClassifier(criterion='entropy', max_depth=1)\n",
    "boost = AdaBoostClassifier(base_estimator=clf, n_estimators=100)\n",
    "boost.fit(x_train, y_train)\n",
    "y_pred5 = boost.predict(x_test)"
   ]
  },
  {
   "cell_type": "code",
   "execution_count": 38,
   "id": "29022d97",
   "metadata": {},
   "outputs": [
    {
     "name": "stdout",
     "output_type": "stream",
     "text": [
      "(33838, 17)\n",
      "[[13650  5766]\n",
      " [ 4275 10147]]\n"
     ]
    },
    {
     "data": {
      "text/plain": [
       "0.7032626041728235"
      ]
     },
     "execution_count": 38,
     "metadata": {},
     "output_type": "execute_result"
    }
   ],
   "source": [
    "y_pred5=boost.predict(x_test)\n",
    "print(x_test.shape)\n",
    "cn5=confusion_matrix(y_test,y_pred5)\n",
    "print(cn5)\n",
    "accuracy_score(y_test,y_pred5)"
   ]
  },
  {
   "cell_type": "code",
   "execution_count": 39,
   "id": "95103c39",
   "metadata": {},
   "outputs": [
    {
     "data": {
      "text/html": [
       "<div>\n",
       "<style scoped>\n",
       "    .dataframe tbody tr th:only-of-type {\n",
       "        vertical-align: middle;\n",
       "    }\n",
       "\n",
       "    .dataframe tbody tr th {\n",
       "        vertical-align: top;\n",
       "    }\n",
       "\n",
       "    .dataframe thead th {\n",
       "        text-align: right;\n",
       "    }\n",
       "</style>\n",
       "<table border=\"1\" class=\"dataframe\">\n",
       "  <thead>\n",
       "    <tr style=\"text-align: right;\">\n",
       "      <th></th>\n",
       "      <th>Actual price</th>\n",
       "      <th>Predicted price</th>\n",
       "    </tr>\n",
       "  </thead>\n",
       "  <tbody>\n",
       "    <tr>\n",
       "      <th>0</th>\n",
       "      <td>0</td>\n",
       "      <td>1</td>\n",
       "    </tr>\n",
       "    <tr>\n",
       "      <th>1</th>\n",
       "      <td>1</td>\n",
       "      <td>1</td>\n",
       "    </tr>\n",
       "    <tr>\n",
       "      <th>2</th>\n",
       "      <td>0</td>\n",
       "      <td>1</td>\n",
       "    </tr>\n",
       "    <tr>\n",
       "      <th>3</th>\n",
       "      <td>0</td>\n",
       "      <td>1</td>\n",
       "    </tr>\n",
       "    <tr>\n",
       "      <th>4</th>\n",
       "      <td>0</td>\n",
       "      <td>0</td>\n",
       "    </tr>\n",
       "    <tr>\n",
       "      <th>...</th>\n",
       "      <td>...</td>\n",
       "      <td>...</td>\n",
       "    </tr>\n",
       "    <tr>\n",
       "      <th>33833</th>\n",
       "      <td>1</td>\n",
       "      <td>1</td>\n",
       "    </tr>\n",
       "    <tr>\n",
       "      <th>33834</th>\n",
       "      <td>0</td>\n",
       "      <td>1</td>\n",
       "    </tr>\n",
       "    <tr>\n",
       "      <th>33835</th>\n",
       "      <td>0</td>\n",
       "      <td>0</td>\n",
       "    </tr>\n",
       "    <tr>\n",
       "      <th>33836</th>\n",
       "      <td>0</td>\n",
       "      <td>0</td>\n",
       "    </tr>\n",
       "    <tr>\n",
       "      <th>33837</th>\n",
       "      <td>0</td>\n",
       "      <td>0</td>\n",
       "    </tr>\n",
       "  </tbody>\n",
       "</table>\n",
       "<p>33838 rows × 2 columns</p>\n",
       "</div>"
      ],
      "text/plain": [
       "       Actual price  Predicted price\n",
       "0                 0                1\n",
       "1                 1                1\n",
       "2                 0                1\n",
       "3                 0                1\n",
       "4                 0                0\n",
       "...             ...              ...\n",
       "33833             1                1\n",
       "33834             0                1\n",
       "33835             0                0\n",
       "33836             0                0\n",
       "33837             0                0\n",
       "\n",
       "[33838 rows x 2 columns]"
      ]
     },
     "execution_count": 39,
     "metadata": {},
     "output_type": "execute_result"
    }
   ],
   "source": [
    "dframe=pd.DataFrame({'Actual price':y_test,'Predicted price':y_pred5})\n",
    "dframe"
   ]
  },
  {
   "cell_type": "code",
   "execution_count": 40,
   "id": "49cbe858",
   "metadata": {},
   "outputs": [
    {
     "data": {
      "image/png": "[encoded data removed]",
      "text/plain": [
       "<Figure size 432x288 with 1 Axes>"
      ]
     },
     "metadata": {
      "needs_background": "light"
     },
     "output_type": "display_data"
    }
   ],
   "source": [
    "svc_disp5 =plot_roc_curve(boost, x_test, y_test)\n",
    "plt.show()"
   ]
  },
  {
   "cell_type": "markdown",
   "id": "f93c2d05",
   "metadata": {},
   "source": [
    "# Stacking"
   ]
  },
  {
   "cell_type": "code",
   "execution_count": 41,
   "id": "c5700c31",
   "metadata": {},
   "outputs": [],
   "source": [
    "clf1 = RandomForestClassifier(random_state=1)\n",
    "clf2 = DecisionTreeClassifier()\n",
    "lr = LogisticRegression()\n",
    "stack = StackingClassifier(classifiers=[clf1, clf2], meta_classifier=lr)\n",
    "stack.fit(x_train, y_train)\n",
    "    \n",
    "y_pred6 = stack.predict(x_test)"
   ]
  },
  {
   "cell_type": "code",
   "execution_count": 42,
   "id": "5ca07a47",
   "metadata": {},
   "outputs": [
    {
     "name": "stdout",
     "output_type": "stream",
     "text": [
      "(33838, 17)\n",
      "[[11328  8088]\n",
      " [ 2337 12085]]\n"
     ]
    },
    {
     "data": {
      "text/plain": [
       "0.6919144157456114"
      ]
     },
     "execution_count": 42,
     "metadata": {},
     "output_type": "execute_result"
    }
   ],
   "source": [
    "print(x_test.shape)\n",
    "cn6=confusion_matrix(y_test,y_pred6)\n",
    "print(cn6)\n",
    "accuracy_score(y_test,y_pred6)\n"
   ]
  },
  {
   "cell_type": "code",
   "execution_count": 43,
   "id": "9d81731f",
   "metadata": {},
   "outputs": [
    {
     "data": {
      "text/html": [
       "<div>\n",
       "<style scoped>\n",
       "    .dataframe tbody tr th:only-of-type {\n",
       "        vertical-align: middle;\n",
       "    }\n",
       "\n",
       "    .dataframe tbody tr th {\n",
       "        vertical-align: top;\n",
       "    }\n",
       "\n",
       "    .dataframe thead th {\n",
       "        text-align: right;\n",
       "    }\n",
       "</style>\n",
       "<table border=\"1\" class=\"dataframe\">\n",
       "  <thead>\n",
       "    <tr style=\"text-align: right;\">\n",
       "      <th></th>\n",
       "      <th>Actual price</th>\n",
       "      <th>Predicted price</th>\n",
       "    </tr>\n",
       "  </thead>\n",
       "  <tbody>\n",
       "    <tr>\n",
       "      <th>0</th>\n",
       "      <td>0</td>\n",
       "      <td>1</td>\n",
       "    </tr>\n",
       "    <tr>\n",
       "      <th>1</th>\n",
       "      <td>1</td>\n",
       "      <td>1</td>\n",
       "    </tr>\n",
       "    <tr>\n",
       "      <th>2</th>\n",
       "      <td>0</td>\n",
       "      <td>1</td>\n",
       "    </tr>\n",
       "    <tr>\n",
       "      <th>3</th>\n",
       "      <td>0</td>\n",
       "      <td>1</td>\n",
       "    </tr>\n",
       "    <tr>\n",
       "      <th>4</th>\n",
       "      <td>0</td>\n",
       "      <td>1</td>\n",
       "    </tr>\n",
       "    <tr>\n",
       "      <th>...</th>\n",
       "      <td>...</td>\n",
       "      <td>...</td>\n",
       "    </tr>\n",
       "    <tr>\n",
       "      <th>33833</th>\n",
       "      <td>1</td>\n",
       "      <td>1</td>\n",
       "    </tr>\n",
       "    <tr>\n",
       "      <th>33834</th>\n",
       "      <td>0</td>\n",
       "      <td>1</td>\n",
       "    </tr>\n",
       "    <tr>\n",
       "      <th>33835</th>\n",
       "      <td>0</td>\n",
       "      <td>0</td>\n",
       "    </tr>\n",
       "    <tr>\n",
       "      <th>33836</th>\n",
       "      <td>0</td>\n",
       "      <td>0</td>\n",
       "    </tr>\n",
       "    <tr>\n",
       "      <th>33837</th>\n",
       "      <td>0</td>\n",
       "      <td>0</td>\n",
       "    </tr>\n",
       "  </tbody>\n",
       "</table>\n",
       "<p>33838 rows × 2 columns</p>\n",
       "</div>"
      ],
      "text/plain": [
       "       Actual price  Predicted price\n",
       "0                 0                1\n",
       "1                 1                1\n",
       "2                 0                1\n",
       "3                 0                1\n",
       "4                 0                1\n",
       "...             ...              ...\n",
       "33833             1                1\n",
       "33834             0                1\n",
       "33835             0                0\n",
       "33836             0                0\n",
       "33837             0                0\n",
       "\n",
       "[33838 rows x 2 columns]"
      ]
     },
     "execution_count": 43,
     "metadata": {},
     "output_type": "execute_result"
    }
   ],
   "source": [
    "dframe=pd.DataFrame({'Actual price':y_test,'Predicted price':y_pred6})\n",
    "dframe"
   ]
  },
  {
   "cell_type": "code",
   "execution_count": 44,
   "id": "d6c00d70",
   "metadata": {},
   "outputs": [
    {
     "data": {
      "image/png": "[encoded data removed]",
      "text/plain": [
       "<Figure size 432x288 with 1 Axes>"
      ]
     },
     "metadata": {
      "needs_background": "light"
     },
     "output_type": "display_data"
    }
   ],
   "source": [
    "y_pred_prob = stack.predict_proba(x_test)[:, 1]\n",
    "plot=True\n",
    "roc_auc = metrics.roc_auc_score(y_test, y_pred_prob)\n",
    "fpr, tpr, thresholds = metrics.roc_curve(y_test, y_pred_prob)\n",
    "if plot == True:\n",
    "    plt.figure()\n",
    "    plt.plot(fpr, tpr, color='darkorange', label='ROC curve (area = %0.2f)' % roc_auc)\n",
    "    plt.plot([0, 1], [0, 1], color='navy', linestyle='--')\n",
    "    plt.xlim([0.0, 1.0])\n",
    "    plt.ylim([0.0, 1.0])\n",
    "    plt.rcParams['font.size'] = 12\n",
    "    plt.xlabel('False Positive Rate (Positive label: 1)')\n",
    "    plt.ylabel('True Positive Rate (Positive label: 1)')\n",
    "    plt.legend(loc=\"lower right\")\n",
    "    plt.show()\n",
    "    "
   ]
  },
  {
   "cell_type": "markdown",
   "id": "22935024",
   "metadata": {},
   "source": [
    "# Comparing models accuracy"
   ]
  },
  {
   "cell_type": "code",
   "execution_count": 45,
   "id": "016e4ec0",
   "metadata": {},
   "outputs": [],
   "source": [
    "classification_models = []\n",
    "classification_models.append(('Logistic Regression', LogisticRegression()))\n",
    "classification_models.append(('Decision Tree',DecisionTreeClassifier(criterion = 'entropy')))\n",
    "classification_models.append(('Random Forest', RandomForestClassifier(n_estimators = 10, criterion = 'entropy')))\n",
    "classification_models.append(('Bagging', BaggingClassifier(DecisionTreeClassifier(), max_samples=1.0, max_features=1.0, bootstrap_features=False)))\n",
    "classification_models.append(('Boosting',AdaBoostClassifier(base_estimator=DecisionTreeClassifier(criterion='entropy', max_depth=1), n_estimators=50)))\n",
    "classification_models.append(('Stacking', StackingClassifier(classifiers=[RandomForestClassifier(random_state=1),  DecisionTreeClassifier()], meta_classifier=LogisticRegression())))"
   ]
  },
  {
   "cell_type": "code",
   "execution_count": 48,
   "id": "1e13a633",
   "metadata": {},
   "outputs": [
    {
     "name": "stdout",
     "output_type": "stream",
     "text": [
      "Logistic Regression: Mean Accuracy = 64.06% - SD Accuracy = 1.10%\n",
      "Decision Tree: Mean Accuracy = 65.19% - SD Accuracy = 0.96%\n",
      "Random Forest: Mean Accuracy = 68.63% - SD Accuracy = 1.30%\n",
      "Bagging: Mean Accuracy = 67.92% - SD Accuracy = 1.11%\n",
      "Boosting: Mean Accuracy = 70.02% - SD Accuracy = 1.03%\n",
      "Stacking: Mean Accuracy = 69.35% - SD Accuracy = 0.86%\n"
     ]
    }
   ],
   "source": [
    "results=[]\n",
    "names=[]\n",
    "from sklearn.model_selection import KFold\n",
    "for name, model in classification_models:\n",
    "  kfold = KFold(n_splits=10)\n",
    "  result = cross_val_score(model, x, y, cv=kfold, scoring='accuracy')\n",
    "  results.append(result)\n",
    "  names.append(name)\n",
    "  print(\"%s: Mean Accuracy = %.2f%% - SD Accuracy = %.2f%%\" % (name, result.mean()*100, result.std()*100))"
   ]
  },
  {
   "cell_type": "code",
   "execution_count": 49,
   "id": "9e9435ac",
   "metadata": {},
   "outputs": [
    {
     "data": {
      "image/png": "[encoded data removed]",
      "text/plain": [
       "<Figure size 432x288 with 1 Axes>"
      ]
     },
     "metadata": {
      "needs_background": "light"
     },
     "output_type": "display_data"
    }
   ],
   "source": [
    "fig = plt.figure()\n",
    "fig.suptitle('Algorithm Comparison')\n",
    "ax = fig.add_subplot(111)\n",
    "plt.boxplot(results)\n",
    "ax.set_xticklabels(names)\n",
    "plt.show()"
   ]
  },
  {
   "cell_type": "code",
   "execution_count": 50,
   "id": "eb2fc4d7",
   "metadata": {},
   "outputs": [
    {
     "data": {
      "text/html": [
       "<div>\n",
       "<style scoped>\n",
       "    .dataframe tbody tr th:only-of-type {\n",
       "        vertical-align: middle;\n",
       "    }\n",
       "\n",
       "    .dataframe tbody tr th {\n",
       "        vertical-align: top;\n",
       "    }\n",
       "\n",
       "    .dataframe thead th {\n",
       "        text-align: right;\n",
       "    }\n",
       "</style>\n",
       "<table border=\"1\" class=\"dataframe\">\n",
       "  <thead>\n",
       "    <tr style=\"text-align: right;\">\n",
       "      <th></th>\n",
       "      <th>answered_all</th>\n",
       "    </tr>\n",
       "  </thead>\n",
       "  <tbody>\n",
       "    <tr>\n",
       "      <th>0</th>\n",
       "      <td>1</td>\n",
       "    </tr>\n",
       "    <tr>\n",
       "      <th>1</th>\n",
       "      <td>1</td>\n",
       "    </tr>\n",
       "    <tr>\n",
       "      <th>2</th>\n",
       "      <td>1</td>\n",
       "    </tr>\n",
       "    <tr>\n",
       "      <th>3</th>\n",
       "      <td>1</td>\n",
       "    </tr>\n",
       "    <tr>\n",
       "      <th>4</th>\n",
       "      <td>0</td>\n",
       "    </tr>\n",
       "  </tbody>\n",
       "</table>\n",
       "</div>"
      ],
      "text/plain": [
       "   answered_all\n",
       "0             1\n",
       "1             1\n",
       "2             1\n",
       "3             1\n",
       "4             0"
      ]
     },
     "execution_count": 50,
     "metadata": {},
     "output_type": "execute_result"
    }
   ],
   "source": [
    "clf = AdaBoostClassifier()\n",
    "clf.fit(x, y)\n",
    "dfTestPredictions = clf.predict(x_test)\n",
    "\n",
    "# Write predictions to csv file\n",
    "\n",
    "results = pd.DataFrame({'answered_all': dfTestPredictions})\n",
    "# Save to file\n",
    "# This file will be visible after publishing in the output section\n",
    "results.to_csv('results.csv', index=False)\n",
    "results.head()"
   ]
  },
  {
   "cell_type": "code",
   "execution_count": 51,
   "id": "d3da0863",
   "metadata": {},
   "outputs": [],
   "source": [
    "results = pd.DataFrame({'answered_all': dfTestPredictions})\n",
    "# Save to file\n",
    "# This file will be visible after publishing in the output section\n",
    "results.to_csv('submission.csv', index=False)"
   ]
  },
  {
   "cell_type": "code",
   "execution_count": 52,
   "id": "8ad9174a",
   "metadata": {},
   "outputs": [
    {
     "data": {
      "text/plain": [
       "Text(0.5, 1.0, 'Total Distribuition by stress or not')"
      ]
     },
     "execution_count": 52,
     "metadata": {},
     "output_type": "execute_result"
    },
    {
     "data": {
      "image/png": "[encoded data removed]",
      "text/plain": [
       "<Figure size 864x576 with 1 Axes>"
      ]
     },
     "metadata": {
      "needs_background": "light"
     },
     "output_type": "display_data"
    }
   ],
   "source": [
    "plt.figure(figsize=(12,8))\n",
    "labels = labelDict['label_Dem_gender']\n",
    "g = sns.countplot(x=\"answered_all\", data=train_df)\n",
    "\n",
    "plt.title('Total Distribuition by stress or not')"
   ]
  },
  {
   "cell_type": "code",
   "execution_count": null,
   "id": "0085df1c",
   "metadata": {},
   "outputs": [],
   "source": []
  }
 ],
 "metadata": {
  "kernelspec": {
   "display_name": "Python 3",
   "language": "python",
   "name": "python3"
  },
  "language_info": {
   "codemirror_mode": {
    "name": "ipython",
    "version": 3
   },
   "file_extension": ".py",
   "mimetype": "text/x-python",
   "name": "python",
   "nbconvert_exporter": "python",
   "pygments_lexer": "ipython3",
   "version": "3.6.8"
  }
 },
 "nbformat": 4,
 "nbformat_minor": 5
}
